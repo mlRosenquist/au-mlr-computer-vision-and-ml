{
 "cells": [
  {
   "cell_type": "markdown",
   "source": [
    "# Setup"
   ],
   "metadata": {
    "collapsed": false
   }
  },
  {
   "cell_type": "markdown",
   "source": [
    "## Imports"
   ],
   "metadata": {
    "collapsed": false
   }
  },
  {
   "cell_type": "code",
   "execution_count": 52,
   "metadata": {
    "collapsed": true
   },
   "outputs": [],
   "source": [
    "import os\n",
    "\n",
    "import pandas\n",
    "import pandas as pd\n",
    "import numpy as np\n",
    "import matplotlib.pyplot as plt"
   ]
  },
  {
   "cell_type": "markdown",
   "source": [
    "## Constants"
   ],
   "metadata": {
    "collapsed": false
   }
  },
  {
   "cell_type": "code",
   "execution_count": 53,
   "outputs": [],
   "source": [
    "numeric_columns = ['Age', 'Tscore', 'Height', 'Weight', 'BMI', 'BASP', 'PTHpmoll', 'Vitdnmoll', 'CTXmygl', 'P1NP', 'calciumion', 'creatinin', 'eGFR', 'oks_total', 'VAS_aktiv']\n",
    "\n",
    "boolean_columns = ['Sex', 'Cem_ucem', 'TKA', 'side', 'exercise', 'former_alcoholabuse', 'smoker', 'former_smoker']"
   ],
   "metadata": {
    "collapsed": false,
    "pycharm": {
     "name": "#%%\n"
    }
   }
  },
  {
   "cell_type": "markdown",
   "source": [
    "# Setup Data"
   ],
   "metadata": {
    "collapsed": false
   }
  },
  {
   "cell_type": "markdown",
   "source": [
    "## Load Data"
   ],
   "metadata": {
    "collapsed": false
   }
  },
  {
   "cell_type": "code",
   "execution_count": 54,
   "outputs": [],
   "source": [
    "# Train data\n",
    "train_data_path = \"data/Train_data.xls\"\n",
    "train_X = pandas.read_excel(train_data_path)\n",
    "train_X.pop('Number')\n",
    "train_y = train_X.pop('MIG_group')\n",
    "\n",
    "# Test data\n",
    "test_data_path = \"data/Test_data.xls\"\n",
    "test_X = pandas.read_excel(test_data_path)\n",
    "test_X.pop('Number')\n",
    "\n",
    "# Validation data\n",
    "validation_data_path = \"data/Validation_data.xls\"\n",
    "validation_X = pandas.read_excel(validation_data_path)\n",
    "validation_X.pop('Number')\n",
    "validation_y = validation_X.pop('MIG_group')"
   ],
   "metadata": {
    "collapsed": false,
    "pycharm": {
     "name": "#%%\n"
    }
   }
  },
  {
   "cell_type": "markdown",
   "source": [
    "## Fix absent data\n",
    "- take mean value for mean values\n",
    "- take most popular for booleans"
   ],
   "metadata": {
    "collapsed": false
   }
  },
  {
   "cell_type": "code",
   "execution_count": 55,
   "outputs": [],
   "source": [
    "# Fixes data\n",
    "# When a value is missing\n",
    "# - if column is numeric -> take mean\n",
    "# - if column is boolean -> take most popular\n",
    "def fixAbsentData(df: pd.DataFrame):\n",
    "\n",
    "    # Get Values for numeric columns\n",
    "    for column in numeric_columns:\n",
    "        if column in df:\n",
    "            mean = df[column].mean()\n",
    "            df[column] = df[column].fillna(mean)\n",
    "\n",
    "    # Get Values for boolean columns\n",
    "    for column in boolean_columns:\n",
    "        if column in df:\n",
    "            mean = df[column].mean()\n",
    "\n",
    "            if(mean <= 0.5):\n",
    "                mean = 0\n",
    "            else:\n",
    "                mean = 1\n",
    "            df[column] = df[column].fillna(mean)\n",
    "    return df\n",
    "\n",
    "train_X = fixAbsentData(train_X)\n",
    "test_X = fixAbsentData(test_X)\n",
    "validation_X = fixAbsentData(validation_X)"
   ],
   "metadata": {
    "collapsed": false,
    "pycharm": {
     "name": "#%%\n"
    }
   }
  },
  {
   "cell_type": "markdown",
   "source": [
    "# Model Training"
   ],
   "metadata": {
    "collapsed": false
   }
  },
  {
   "cell_type": "code",
   "execution_count": 55,
   "outputs": [],
   "source": [],
   "metadata": {
    "collapsed": false,
    "pycharm": {
     "name": "#%%\n"
    }
   }
  },
  {
   "cell_type": "markdown",
   "source": [
    "# Data Visualization"
   ],
   "metadata": {
    "collapsed": false,
    "pycharm": {
     "name": "#%% md\n"
    }
   }
  },
  {
   "cell_type": "code",
   "execution_count": 55,
   "outputs": [],
   "source": [],
   "metadata": {
    "collapsed": false,
    "pycharm": {
     "name": "#%%\n"
    }
   }
  }
 ],
 "metadata": {
  "kernelspec": {
   "display_name": "Python 3",
   "language": "python",
   "name": "python3"
  },
  "language_info": {
   "codemirror_mode": {
    "name": "ipython",
    "version": 2
   },
   "file_extension": ".py",
   "mimetype": "text/x-python",
   "name": "python",
   "nbconvert_exporter": "python",
   "pygments_lexer": "ipython2",
   "version": "2.7.6"
  }
 },
 "nbformat": 4,
 "nbformat_minor": 0
}