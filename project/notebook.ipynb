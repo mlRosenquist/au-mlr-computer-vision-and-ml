{
 "cells": [
  {
   "cell_type": "markdown",
   "source": [
    "# Setup"
   ],
   "metadata": {
    "collapsed": false
   }
  },
  {
   "cell_type": "markdown",
   "source": [
    "## Imports"
   ],
   "metadata": {
    "collapsed": false
   }
  },
  {
   "cell_type": "code",
   "execution_count": 634,
   "metadata": {
    "collapsed": true
   },
   "outputs": [],
   "source": [
    "import pandas as pd\n",
    "import numpy as np\n",
    "import matplotlib\n",
    "from sklearn.ensemble import IsolationForest\n",
    "from scipy import stats\n",
    "from sklearn.neighbors import KNeighborsClassifier\n",
    "from sklearn.svm import SVC\n",
    "\n",
    "import matplotlib.pyplot as plt\n",
    "from mpl_toolkits.mplot3d import Axes3D\n",
    "from sklearn.decomposition import PCA\n",
    "from sklearn.linear_model import LogisticRegression\n",
    "from sklearn.model_selection import GridSearchCV\n",
    "from sklearn.neural_network import MLPClassifier\n",
    "from sklearn.pipeline import Pipeline\n",
    "from sklearn.preprocessing import StandardScaler, RobustScaler\n",
    "import os\n",
    "from sklearn.discriminant_analysis import LinearDiscriminantAnalysis, QuadraticDiscriminantAnalysis\n",
    "from sklearn.tree import DecisionTreeClassifier"
   ]
  },
  {
   "cell_type": "markdown",
   "source": [
    "## Constants"
   ],
   "metadata": {
    "collapsed": false
   }
  },
  {
   "cell_type": "code",
   "execution_count": 635,
   "outputs": [],
   "source": [
    "numeric_columns = ['Age', 'Tscore', 'Height', 'Weight', 'BMI', 'BASP', 'PTHpmoll', 'Vitdnmoll', 'CTXmygl', 'P1NP', 'calciumion', 'creatinin', 'eGFR', 'oks_total', 'VAS_aktiv']\n",
    "\n",
    "boolean_columns = ['Sex', 'Cem_ucem', 'TKA', 'side', 'exercise', 'former_alcoholabuse', 'smoker', 'former_smoker']"
   ],
   "metadata": {
    "collapsed": false,
    "pycharm": {
     "name": "#%%\n"
    }
   }
  },
  {
   "cell_type": "markdown",
   "source": [
    "# Setup Data"
   ],
   "metadata": {
    "collapsed": false
   }
  },
  {
   "cell_type": "markdown",
   "source": [
    "## Load Data"
   ],
   "metadata": {
    "collapsed": false
   }
  },
  {
   "cell_type": "code",
   "execution_count": 636,
   "outputs": [
    {
     "data": {
      "text/plain": "0      1\n1      2\n2      3\n3      4\n4      5\n5      6\n6      7\n7      8\n8      9\n9      0\n10    11\n11    12\n12    13\n13    14\n14    15\n15    16\n16    17\n17    18\n18    19\n19    20\n20    21\n21    22\n22    23\n23    24\n24    25\n25    26\n26    27\n27    28\n28    29\n29    30\n30    31\n31    32\n32    33\n33    34\n34    35\n35    36\n36    37\n37    38\n38    39\n39    40\n40    41\n41    42\n42    43\n43    44\n44    45\n45    46\n46    47\n47    48\n48    49\n49    50\nName: Number, dtype: int64"
     },
     "execution_count": 636,
     "metadata": {},
     "output_type": "execute_result"
    }
   ],
   "source": [
    "# Train data\n",
    "train_data_path = \"data/Train_data.xls\"\n",
    "X_train = pd.read_excel(train_data_path)\n",
    "X_train.pop('Number')\n",
    "\n",
    "# Test data\n",
    "test_data_path = \"data/Test_data.xls\"\n",
    "X_test = pd.read_excel(test_data_path)\n",
    "X_test.pop('Number')\n",
    "\n",
    "# Validation data\n",
    "validation_data_path = \"data/Validation_data.xls\"\n",
    "X_validation = pd.read_excel(validation_data_path)\n",
    "X_validation.pop('Number')"
   ],
   "metadata": {
    "collapsed": false,
    "pycharm": {
     "name": "#%%\n"
    }
   }
  },
  {
   "cell_type": "markdown",
   "source": [
    "## Fix absent data\n",
    "- take mean value for mean values\n",
    "- take most popular for booleans"
   ],
   "metadata": {
    "collapsed": false
   }
  },
  {
   "cell_type": "code",
   "execution_count": 637,
   "outputs": [
    {
     "data": {
      "text/plain": "array([[ 0.17439325,  1.67362164,  1.03863367, ..., -0.30286433,\n         0.18841865,  0.95104855],\n       [ 2.95820319,  1.21753995,  0.33871915, ..., -0.25172522,\n         0.23385252,  0.10029318],\n       [-0.9733638 ,  0.62018974, -1.84576403, ..., -1.78921767,\n         1.06392941, -0.3892528 ],\n       ...,\n       [-1.99882939,  0.88526162, -1.04215359, ...,  1.34902249,\n         0.46466681, -0.94926656],\n       [ 0.27965683, -1.49246283,  0.09777497, ..., -0.60539915,\n         0.00869808,  0.59997148],\n       [-1.03645548,  0.56517579, -1.13198331, ..., -0.28236867,\n         0.69501925, -1.1192623 ]])"
     },
     "execution_count": 637,
     "metadata": {},
     "output_type": "execute_result"
    }
   ],
   "source": [
    "# Fixes data\n",
    "# When a value is missing\n",
    "# - if column is numeric -> take mean\n",
    "# - if column is boolean -> take most popular\n",
    "def fixAbsentData(df: pd.DataFrame):\n",
    "\n",
    "    # Get Values for numeric columns\n",
    "    for column in numeric_columns:\n",
    "        if column in df:\n",
    "            mean = df[column].mean()\n",
    "            df[column] = df[column].fillna(mean)\n",
    "\n",
    "    # Get Values for boolean columns\n",
    "    for column in boolean_columns:\n",
    "        if column in df:\n",
    "            mean = df[column].mean()\n",
    "\n",
    "            if(mean <= 0.5):\n",
    "                mean = 0\n",
    "            else:\n",
    "                mean = 1\n",
    "            df[column] = df[column].fillna(mean)\n",
    "    return df\n",
    "\n",
    "train_X = fixAbsentData(X_train)\n",
    "test_X = fixAbsentData(X_test)\n",
    "validation_X = fixAbsentData(X_validation)\n",
    "\n",
    "# remove outliers\n",
    "#X_train = X_train[(np.abs(stats.zscore(X_train)) < 5).all(axis=1)]\n",
    "#X_validation = X_validation[(np.abs(stats.zscore(X_validation)) < 5).all(axis=1)]\n",
    "y_train = X_train.pop('MIG_group')\n",
    "y_validation = X_validation.pop('MIG_group')\n",
    "\n",
    "components = 10\n",
    "## PCA\n",
    "scaler = StandardScaler()\n",
    "scaler.fit(X_train)\n",
    "X_train = scaler.transform(X_train)\n",
    "X_test = scaler.transform(X_test)\n",
    "X_validation = scaler.transform(X_validation)\n",
    "\n",
    "pca = PCA(components)\n",
    "X_train = pca.fit_transform(X_train, y_train)\n",
    "#\n",
    "pca = PCA(components)\n",
    "X_validation = pca.fit_transform(X_validation, y_validation)\n",
    "#\n",
    "pca = PCA(components)\n",
    "X_test = pca.fit_transform(X_test)\n",
    "\n",
    "X_train"
   ],
   "metadata": {
    "collapsed": false,
    "pycharm": {
     "name": "#%%\n"
    }
   }
  },
  {
   "cell_type": "markdown",
   "source": [
    "# Model Training"
   ],
   "metadata": {
    "collapsed": false
   }
  },
  {
   "cell_type": "markdown",
   "source": [
    "## Setup"
   ],
   "metadata": {
    "collapsed": false
   }
  },
  {
   "cell_type": "markdown",
   "source": [],
   "metadata": {
    "collapsed": false
   }
  },
  {
   "cell_type": "code",
   "execution_count": 638,
   "outputs": [
    {
     "data": {
      "text/plain": "            0\n241 -0.242862\n159 -0.093220\n140 -0.079548\n276 -0.076601\n120 -0.062556\n..        ...\n47   0.120390\n144  0.122014\n215  0.122980\n75   0.124293\n109  0.126306\n\n[300 rows x 1 columns]",
      "text/html": "<div>\n<style scoped>\n    .dataframe tbody tr th:only-of-type {\n        vertical-align: middle;\n    }\n\n    .dataframe tbody tr th {\n        vertical-align: top;\n    }\n\n    .dataframe thead th {\n        text-align: right;\n    }\n</style>\n<table border=\"1\" class=\"dataframe\">\n  <thead>\n    <tr style=\"text-align: right;\">\n      <th></th>\n      <th>0</th>\n    </tr>\n  </thead>\n  <tbody>\n    <tr>\n      <th>241</th>\n      <td>-0.242862</td>\n    </tr>\n    <tr>\n      <th>159</th>\n      <td>-0.093220</td>\n    </tr>\n    <tr>\n      <th>140</th>\n      <td>-0.079548</td>\n    </tr>\n    <tr>\n      <th>276</th>\n      <td>-0.076601</td>\n    </tr>\n    <tr>\n      <th>120</th>\n      <td>-0.062556</td>\n    </tr>\n    <tr>\n      <th>...</th>\n      <td>...</td>\n    </tr>\n    <tr>\n      <th>47</th>\n      <td>0.120390</td>\n    </tr>\n    <tr>\n      <th>144</th>\n      <td>0.122014</td>\n    </tr>\n    <tr>\n      <th>215</th>\n      <td>0.122980</td>\n    </tr>\n    <tr>\n      <th>75</th>\n      <td>0.124293</td>\n    </tr>\n    <tr>\n      <th>109</th>\n      <td>0.126306</td>\n    </tr>\n  </tbody>\n</table>\n<p>300 rows × 1 columns</p>\n</div>"
     },
     "execution_count": 638,
     "metadata": {},
     "output_type": "execute_result"
    }
   ],
   "source": [
    "iForest = IsolationForest()\n",
    "scaler = StandardScaler()\n",
    "pipe = Pipeline(steps=[(\"scaler\", scaler), (\"iForest\", iForest)])\n",
    "\n",
    "pipe.fit(X_train, y_train)\n",
    "dec_function = pd.DataFrame(pipe.decision_function(X_train))\n",
    "dec_function.sort_values(by=0)"
   ],
   "metadata": {
    "collapsed": false,
    "pycharm": {
     "name": "#%%\n"
    }
   }
  },
  {
   "cell_type": "code",
   "execution_count": 639,
   "outputs": [
    {
     "data": {
      "text/plain": "           0\n8  -0.079532\n30 -0.053747\n19 -0.035520\n45 -0.027375\n18 -0.021036\n47 -0.015152\n7  -0.013442\n10 -0.008748\n26 -0.005548\n24  0.001307\n2   0.002041\n40  0.005258\n15  0.007172\n48  0.007331\n36  0.016497\n9   0.016639\n12  0.018407\n38  0.022233\n41  0.024914\n3   0.025840\n28  0.029080\n11  0.029727\n33  0.034498\n46  0.037386\n0   0.047536\n20  0.047969\n14  0.047994\n4   0.052617\n37  0.055518\n35  0.057679\n27  0.059023\n44  0.065605\n1   0.066149\n13  0.070547\n16  0.072389\n25  0.072790\n49  0.073562\n42  0.074800\n17  0.075174\n43  0.075407\n22  0.082681\n34  0.085566\n31  0.085706\n29  0.086543\n5   0.087282\n21  0.087861\n32  0.089113\n39  0.093491\n23  0.094438\n6   0.104547",
      "text/html": "<div>\n<style scoped>\n    .dataframe tbody tr th:only-of-type {\n        vertical-align: middle;\n    }\n\n    .dataframe tbody tr th {\n        vertical-align: top;\n    }\n\n    .dataframe thead th {\n        text-align: right;\n    }\n</style>\n<table border=\"1\" class=\"dataframe\">\n  <thead>\n    <tr style=\"text-align: right;\">\n      <th></th>\n      <th>0</th>\n    </tr>\n  </thead>\n  <tbody>\n    <tr>\n      <th>8</th>\n      <td>-0.079532</td>\n    </tr>\n    <tr>\n      <th>30</th>\n      <td>-0.053747</td>\n    </tr>\n    <tr>\n      <th>19</th>\n      <td>-0.035520</td>\n    </tr>\n    <tr>\n      <th>45</th>\n      <td>-0.027375</td>\n    </tr>\n    <tr>\n      <th>18</th>\n      <td>-0.021036</td>\n    </tr>\n    <tr>\n      <th>47</th>\n      <td>-0.015152</td>\n    </tr>\n    <tr>\n      <th>7</th>\n      <td>-0.013442</td>\n    </tr>\n    <tr>\n      <th>10</th>\n      <td>-0.008748</td>\n    </tr>\n    <tr>\n      <th>26</th>\n      <td>-0.005548</td>\n    </tr>\n    <tr>\n      <th>24</th>\n      <td>0.001307</td>\n    </tr>\n    <tr>\n      <th>2</th>\n      <td>0.002041</td>\n    </tr>\n    <tr>\n      <th>40</th>\n      <td>0.005258</td>\n    </tr>\n    <tr>\n      <th>15</th>\n      <td>0.007172</td>\n    </tr>\n    <tr>\n      <th>48</th>\n      <td>0.007331</td>\n    </tr>\n    <tr>\n      <th>36</th>\n      <td>0.016497</td>\n    </tr>\n    <tr>\n      <th>9</th>\n      <td>0.016639</td>\n    </tr>\n    <tr>\n      <th>12</th>\n      <td>0.018407</td>\n    </tr>\n    <tr>\n      <th>38</th>\n      <td>0.022233</td>\n    </tr>\n    <tr>\n      <th>41</th>\n      <td>0.024914</td>\n    </tr>\n    <tr>\n      <th>3</th>\n      <td>0.025840</td>\n    </tr>\n    <tr>\n      <th>28</th>\n      <td>0.029080</td>\n    </tr>\n    <tr>\n      <th>11</th>\n      <td>0.029727</td>\n    </tr>\n    <tr>\n      <th>33</th>\n      <td>0.034498</td>\n    </tr>\n    <tr>\n      <th>46</th>\n      <td>0.037386</td>\n    </tr>\n    <tr>\n      <th>0</th>\n      <td>0.047536</td>\n    </tr>\n    <tr>\n      <th>20</th>\n      <td>0.047969</td>\n    </tr>\n    <tr>\n      <th>14</th>\n      <td>0.047994</td>\n    </tr>\n    <tr>\n      <th>4</th>\n      <td>0.052617</td>\n    </tr>\n    <tr>\n      <th>37</th>\n      <td>0.055518</td>\n    </tr>\n    <tr>\n      <th>35</th>\n      <td>0.057679</td>\n    </tr>\n    <tr>\n      <th>27</th>\n      <td>0.059023</td>\n    </tr>\n    <tr>\n      <th>44</th>\n      <td>0.065605</td>\n    </tr>\n    <tr>\n      <th>1</th>\n      <td>0.066149</td>\n    </tr>\n    <tr>\n      <th>13</th>\n      <td>0.070547</td>\n    </tr>\n    <tr>\n      <th>16</th>\n      <td>0.072389</td>\n    </tr>\n    <tr>\n      <th>25</th>\n      <td>0.072790</td>\n    </tr>\n    <tr>\n      <th>49</th>\n      <td>0.073562</td>\n    </tr>\n    <tr>\n      <th>42</th>\n      <td>0.074800</td>\n    </tr>\n    <tr>\n      <th>17</th>\n      <td>0.075174</td>\n    </tr>\n    <tr>\n      <th>43</th>\n      <td>0.075407</td>\n    </tr>\n    <tr>\n      <th>22</th>\n      <td>0.082681</td>\n    </tr>\n    <tr>\n      <th>34</th>\n      <td>0.085566</td>\n    </tr>\n    <tr>\n      <th>31</th>\n      <td>0.085706</td>\n    </tr>\n    <tr>\n      <th>29</th>\n      <td>0.086543</td>\n    </tr>\n    <tr>\n      <th>5</th>\n      <td>0.087282</td>\n    </tr>\n    <tr>\n      <th>21</th>\n      <td>0.087861</td>\n    </tr>\n    <tr>\n      <th>32</th>\n      <td>0.089113</td>\n    </tr>\n    <tr>\n      <th>39</th>\n      <td>0.093491</td>\n    </tr>\n    <tr>\n      <th>23</th>\n      <td>0.094438</td>\n    </tr>\n    <tr>\n      <th>6</th>\n      <td>0.104547</td>\n    </tr>\n  </tbody>\n</table>\n</div>"
     },
     "execution_count": 639,
     "metadata": {},
     "output_type": "execute_result"
    }
   ],
   "source": [
    "iForest = IsolationForest()\n",
    "scaler = StandardScaler()\n",
    "pipe = Pipeline(steps=[(\"scaler\", scaler), (\"iForest\", iForest)])\n",
    "\n",
    "pipe.fit(X_validation, y_validation)\n",
    "dec_function = pd.DataFrame(pipe.decision_function(X_validation))\n",
    "dec_function.sort_values(by=0)"
   ],
   "metadata": {
    "collapsed": false,
    "pycharm": {
     "name": "#%%\n"
    }
   }
  },
  {
   "cell_type": "markdown",
   "source": [
    "## Logistic Regression"
   ],
   "metadata": {
    "collapsed": false
   }
  },
  {
   "cell_type": "code",
   "execution_count": 640,
   "outputs": [
    {
     "name": "stdout",
     "output_type": "stream",
     "text": [
      "Best parameter (CV score=0.787):\n",
      "{'logistic__C': 1e-10}\n",
      "0.7\n"
     ]
    },
    {
     "data": {
      "text/plain": "array([0, 0, 0, 0, 0, 0, 0, 0, 0, 0, 0, 0, 0, 0, 0, 0, 0, 0, 0, 0, 0, 0,\n       0, 0, 0, 0, 0, 0, 0, 0, 0, 0, 0, 0, 0, 0, 0, 0, 0, 0, 0, 0, 0, 0,\n       0, 0, 0, 0, 0, 0])"
     },
     "execution_count": 640,
     "metadata": {},
     "output_type": "execute_result"
    }
   ],
   "source": [
    "max_iter = 10000\n",
    "logistic = LogisticRegression(max_iter=max_iter)\n",
    "\n",
    "pipe = Pipeline(steps=[(\"logistic\", logistic)])\n",
    "\n",
    "parameter_grid = {\n",
    "    \"logistic__C\": np.logspace(-10, 10, 100),\n",
    "}\n",
    "\n",
    "search = GridSearchCV(pipe, parameter_grid, n_jobs=-1, cv=5)\n",
    "search.fit(X_train, y_train)\n",
    "\n",
    "print(\"Best parameter (CV score=%0.3f):\" % search.best_score_)\n",
    "print(search.best_params_)\n",
    "best_params = search.best_params_\n",
    "\n",
    "logistic = LogisticRegression(max_iter=max_iter, C=best_params['logistic__C'])\n",
    "\n",
    "pipe = Pipeline(steps=[(\"logistic\", logistic)])\n",
    "pipe.fit(X_train, y_train)\n",
    "print(pipe.score(X_validation, y_validation))\n",
    "pipe.predict(X_validation)"
   ],
   "metadata": {
    "collapsed": false,
    "pycharm": {
     "name": "#%%\n"
    }
   }
  },
  {
   "cell_type": "markdown",
   "source": [],
   "metadata": {
    "collapsed": false
   }
  },
  {
   "cell_type": "markdown",
   "source": [
    "## Multi-layer Perceptron"
   ],
   "metadata": {
    "collapsed": false
   }
  },
  {
   "cell_type": "code",
   "execution_count": 641,
   "outputs": [
    {
     "name": "stdout",
     "output_type": "stream",
     "text": [
      "Best parameter (CV score=0.787):\n",
      "{'mlp__activation': 'relu', 'mlp__alpha': 0.0001, 'mlp__hidden_layer_sizes': (2, 2, 2), 'mlp__learning_rate': 'adaptive', 'mlp__solver': 'adam'}\n",
      "0.7\n"
     ]
    },
    {
     "data": {
      "text/plain": "array([0, 0, 0, 0, 0, 0, 0, 0, 0, 0, 0, 0, 0, 0, 0, 0, 0, 0, 0, 0, 0, 0,\n       0, 0, 0, 0, 0, 0, 0, 0, 0, 0, 0, 0, 0, 0, 0, 0, 0, 0, 0, 0, 0, 0,\n       0, 0, 0, 0, 0, 0, 0, 0, 0, 0, 0, 0, 0, 0, 0, 0, 0, 0, 0, 0, 0, 0,\n       0, 0, 0, 0, 0, 0, 0, 0, 0, 0, 0, 0, 0, 0, 0, 0, 0, 0, 0, 0, 0, 0,\n       0, 0, 0, 0, 0, 0, 0, 0, 0, 0, 0, 0])"
     },
     "execution_count": 641,
     "metadata": {},
     "output_type": "execute_result"
    }
   ],
   "source": [
    "max_iter=10000\n",
    "mlp = MLPClassifier(max_iter=max_iter)\n",
    "\n",
    "pipe = Pipeline(steps=[(\"mlp\", mlp)])\n",
    "\n",
    "parameter_grid = {\n",
    "    'mlp__hidden_layer_sizes': [(2,2,2),(5,5,5), (5,2,2), (3,3,3)],\n",
    "    'mlp__activation': ['relu'],\n",
    "    'mlp__solver': ['lbfgs', 'adam'],\n",
    "    'mlp__alpha': [0.00001, 0.0001, 0.001, 0.01, 0.1],\n",
    "    'mlp__learning_rate': ['adaptive'],\n",
    "}\n",
    "\n",
    "search = GridSearchCV(pipe, parameter_grid, n_jobs=-1, cv=5)\n",
    "search.fit(X_train, y_train)\n",
    "\n",
    "print(\"Best parameter (CV score=%0.3f):\" % search.best_score_)\n",
    "print(search.best_params_)\n",
    "\n",
    "best_params = search.best_params_\n",
    "\n",
    "mlp = MLPClassifier(\n",
    "    max_iter=max_iter,\n",
    "    hidden_layer_sizes= best_params['mlp__hidden_layer_sizes'],\n",
    "    activation=best_params['mlp__activation'],\n",
    "    solver=best_params['mlp__solver'],\n",
    "    alpha=best_params['mlp__alpha'],\n",
    "    learning_rate=best_params['mlp__learning_rate'])\n",
    "\n",
    "pipe = Pipeline(steps=[(\"mlp\", mlp)])\n",
    "pipe.fit(X_train, y_train)\n",
    "print(pipe.score(X_validation, y_validation))\n",
    "pipe.predict(X_test)"
   ],
   "metadata": {
    "collapsed": false,
    "pycharm": {
     "name": "#%%\n"
    }
   }
  },
  {
   "cell_type": "markdown",
   "source": [
    "## SVC"
   ],
   "metadata": {
    "collapsed": false
   }
  },
  {
   "cell_type": "code",
   "execution_count": 642,
   "outputs": [
    {
     "name": "stderr",
     "output_type": "stream",
     "text": [
      "/home/mlrosenquist/repos/au-mlr-computer-vision-and-ml/project/venv/lib64/python3.9/site-packages/sklearn/svm/_base.py:284: ConvergenceWarning: Solver terminated early (max_iter=10000).  Consider pre-processing your data with StandardScaler or MinMaxScaler.\n",
      "  warnings.warn(\n",
      "/home/mlrosenquist/repos/au-mlr-computer-vision-and-ml/project/venv/lib64/python3.9/site-packages/sklearn/svm/_base.py:284: ConvergenceWarning: Solver terminated early (max_iter=10000).  Consider pre-processing your data with StandardScaler or MinMaxScaler.\n",
      "  warnings.warn(\n",
      "/home/mlrosenquist/repos/au-mlr-computer-vision-and-ml/project/venv/lib64/python3.9/site-packages/sklearn/svm/_base.py:284: ConvergenceWarning: Solver terminated early (max_iter=10000).  Consider pre-processing your data with StandardScaler or MinMaxScaler.\n",
      "  warnings.warn(\n",
      "/home/mlrosenquist/repos/au-mlr-computer-vision-and-ml/project/venv/lib64/python3.9/site-packages/sklearn/svm/_base.py:284: ConvergenceWarning: Solver terminated early (max_iter=10000).  Consider pre-processing your data with StandardScaler or MinMaxScaler.\n",
      "  warnings.warn(\n",
      "/home/mlrosenquist/repos/au-mlr-computer-vision-and-ml/project/venv/lib64/python3.9/site-packages/sklearn/svm/_base.py:284: ConvergenceWarning: Solver terminated early (max_iter=10000).  Consider pre-processing your data with StandardScaler or MinMaxScaler.\n",
      "  warnings.warn(\n",
      "/home/mlrosenquist/repos/au-mlr-computer-vision-and-ml/project/venv/lib64/python3.9/site-packages/sklearn/svm/_base.py:284: ConvergenceWarning: Solver terminated early (max_iter=10000).  Consider pre-processing your data with StandardScaler or MinMaxScaler.\n",
      "  warnings.warn(\n",
      "/home/mlrosenquist/repos/au-mlr-computer-vision-and-ml/project/venv/lib64/python3.9/site-packages/sklearn/svm/_base.py:284: ConvergenceWarning: Solver terminated early (max_iter=10000).  Consider pre-processing your data with StandardScaler or MinMaxScaler.\n",
      "  warnings.warn(\n",
      "/home/mlrosenquist/repos/au-mlr-computer-vision-and-ml/project/venv/lib64/python3.9/site-packages/sklearn/svm/_base.py:284: ConvergenceWarning: Solver terminated early (max_iter=10000).  Consider pre-processing your data with StandardScaler or MinMaxScaler.\n",
      "  warnings.warn(\n",
      "/home/mlrosenquist/repos/au-mlr-computer-vision-and-ml/project/venv/lib64/python3.9/site-packages/sklearn/svm/_base.py:284: ConvergenceWarning: Solver terminated early (max_iter=10000).  Consider pre-processing your data with StandardScaler or MinMaxScaler.\n",
      "  warnings.warn(\n",
      "/home/mlrosenquist/repos/au-mlr-computer-vision-and-ml/project/venv/lib64/python3.9/site-packages/sklearn/svm/_base.py:284: ConvergenceWarning: Solver terminated early (max_iter=10000).  Consider pre-processing your data with StandardScaler or MinMaxScaler.\n",
      "  warnings.warn(\n",
      "/home/mlrosenquist/repos/au-mlr-computer-vision-and-ml/project/venv/lib64/python3.9/site-packages/sklearn/svm/_base.py:284: ConvergenceWarning: Solver terminated early (max_iter=10000).  Consider pre-processing your data with StandardScaler or MinMaxScaler.\n",
      "  warnings.warn(\n",
      "/home/mlrosenquist/repos/au-mlr-computer-vision-and-ml/project/venv/lib64/python3.9/site-packages/sklearn/svm/_base.py:284: ConvergenceWarning: Solver terminated early (max_iter=10000).  Consider pre-processing your data with StandardScaler or MinMaxScaler.\n",
      "  warnings.warn(\n",
      "/home/mlrosenquist/repos/au-mlr-computer-vision-and-ml/project/venv/lib64/python3.9/site-packages/sklearn/svm/_base.py:284: ConvergenceWarning: Solver terminated early (max_iter=10000).  Consider pre-processing your data with StandardScaler or MinMaxScaler.\n",
      "  warnings.warn(\n",
      "/home/mlrosenquist/repos/au-mlr-computer-vision-and-ml/project/venv/lib64/python3.9/site-packages/sklearn/svm/_base.py:284: ConvergenceWarning: Solver terminated early (max_iter=10000).  Consider pre-processing your data with StandardScaler or MinMaxScaler.\n",
      "  warnings.warn(\n",
      "/home/mlrosenquist/repos/au-mlr-computer-vision-and-ml/project/venv/lib64/python3.9/site-packages/sklearn/svm/_base.py:284: ConvergenceWarning: Solver terminated early (max_iter=10000).  Consider pre-processing your data with StandardScaler or MinMaxScaler.\n",
      "  warnings.warn(\n"
     ]
    },
    {
     "name": "stdout",
     "output_type": "stream",
     "text": [
      "Best parameter (CV score=0.787):\n",
      "{'svc__C': 1e-05, 'svc__kernel': 'linear'}\n",
      "0.7\n"
     ]
    },
    {
     "name": "stderr",
     "output_type": "stream",
     "text": [
      "/home/mlrosenquist/repos/au-mlr-computer-vision-and-ml/project/venv/lib64/python3.9/site-packages/sklearn/svm/_base.py:284: ConvergenceWarning: Solver terminated early (max_iter=10000).  Consider pre-processing your data with StandardScaler or MinMaxScaler.\n",
      "  warnings.warn(\n",
      "/home/mlrosenquist/repos/au-mlr-computer-vision-and-ml/project/venv/lib64/python3.9/site-packages/sklearn/svm/_base.py:284: ConvergenceWarning: Solver terminated early (max_iter=10000).  Consider pre-processing your data with StandardScaler or MinMaxScaler.\n",
      "  warnings.warn(\n",
      "/home/mlrosenquist/repos/au-mlr-computer-vision-and-ml/project/venv/lib64/python3.9/site-packages/sklearn/svm/_base.py:284: ConvergenceWarning: Solver terminated early (max_iter=10000).  Consider pre-processing your data with StandardScaler or MinMaxScaler.\n",
      "  warnings.warn(\n",
      "/home/mlrosenquist/repos/au-mlr-computer-vision-and-ml/project/venv/lib64/python3.9/site-packages/sklearn/svm/_base.py:284: ConvergenceWarning: Solver terminated early (max_iter=10000).  Consider pre-processing your data with StandardScaler or MinMaxScaler.\n",
      "  warnings.warn(\n",
      "/home/mlrosenquist/repos/au-mlr-computer-vision-and-ml/project/venv/lib64/python3.9/site-packages/sklearn/svm/_base.py:284: ConvergenceWarning: Solver terminated early (max_iter=10000).  Consider pre-processing your data with StandardScaler or MinMaxScaler.\n",
      "  warnings.warn(\n"
     ]
    },
    {
     "data": {
      "text/plain": "array([0, 0, 0, 0, 0, 0, 0, 0, 0, 0, 0, 0, 0, 0, 0, 0, 0, 0, 0, 0, 0, 0,\n       0, 0, 0, 0, 0, 0, 0, 0, 0, 0, 0, 0, 0, 0, 0, 0, 0, 0, 0, 0, 0, 0,\n       0, 0, 0, 0, 0, 0])"
     },
     "execution_count": 642,
     "metadata": {},
     "output_type": "execute_result"
    }
   ],
   "source": [
    "max_iter=10000\n",
    "svc = SVC(max_iter=max_iter)\n",
    "\n",
    "pipe = Pipeline(steps=[(\"svc\", svc)])\n",
    "\n",
    "parameter_grid = {\n",
    "    'svc__kernel': ['linear', 'poly', 'rbf'],\n",
    "    'svc__C': np.logspace(-5, 5, 10),\n",
    "}\n",
    "\n",
    "search = GridSearchCV(pipe, parameter_grid, n_jobs=-1, cv=5)\n",
    "search.fit(X_train, y_train)\n",
    "\n",
    "print(\"Best parameter (CV score=%0.3f):\" % search.best_score_)\n",
    "print(search.best_params_)\n",
    "\n",
    "best_params = search.best_params_\n",
    "\n",
    "\n",
    "svc = SVC(\n",
    "    max_iter=max_iter,\n",
    "    kernel=best_params['svc__kernel'],\n",
    "    C=best_params['svc__C']\n",
    "    )\n",
    "\n",
    "pipe = Pipeline(steps=[(\"svc\", svc)])\n",
    "pipe.fit(X_train, y_train)\n",
    "print(pipe.score(X_validation, y_validation))\n",
    "pipe.predict(X_validation)"
   ],
   "metadata": {
    "collapsed": false,
    "pycharm": {
     "name": "#%%\n"
    }
   }
  },
  {
   "cell_type": "markdown",
   "source": [
    "## Decision Tree"
   ],
   "metadata": {
    "collapsed": false
   }
  },
  {
   "cell_type": "code",
   "execution_count": 643,
   "outputs": [
    {
     "name": "stdout",
     "output_type": "stream",
     "text": [
      "Best parameter (CV score=0.790):\n",
      "{'tree__criterion': 'entropy', 'tree__max_depth': 5, 'tree__max_features': 2, 'tree__min_samples_split': 2, 'tree__splitter': 'best'}\n",
      "0.7\n"
     ]
    },
    {
     "data": {
      "text/plain": "array([0, 0, 0, 0, 0, 0, 0, 0, 1, 0, 0, 0, 0, 0, 0, 0, 0, 0, 0, 0, 0, 0,\n       0, 0, 0, 0, 0, 0, 0, 0, 0, 0, 0, 0, 0, 0, 0, 0, 0, 0, 0, 0, 0, 0,\n       0, 0, 0, 0, 1, 0])"
     },
     "execution_count": 643,
     "metadata": {},
     "output_type": "execute_result"
    }
   ],
   "source": [
    "max_iter=10000\n",
    "tree = DecisionTreeClassifier()\n",
    "\n",
    "pipe = Pipeline(steps=[(\"tree\", tree)])\n",
    "\n",
    "parameter_grid = {\n",
    "    'tree__criterion': ['gini', 'entropy',],\n",
    "    'tree__splitter': ['best',],\n",
    "    'tree__max_depth': [5, 10, 15, 20],\n",
    "    'tree__min_samples_split': [2,3,4],\n",
    "    'tree__max_features': [1,2,4,6,8]\n",
    "}\n",
    "\n",
    "search = GridSearchCV(pipe, parameter_grid, n_jobs=-1, cv=5)\n",
    "search.fit(X_train, y_train)\n",
    "\n",
    "print(\"Best parameter (CV score=%0.3f):\" % search.best_score_)\n",
    "print(search.best_params_)\n",
    "\n",
    "best_params = search.best_params_\n",
    "\n",
    "tree = DecisionTreeClassifier(\n",
    "    criterion=best_params['tree__criterion'],\n",
    "    splitter=best_params['tree__splitter'],\n",
    "    max_depth=best_params['tree__max_depth'],\n",
    "    min_samples_split=best_params['tree__min_samples_split'],\n",
    "    max_features=best_params['tree__max_features']\n",
    "    )\n",
    "\n",
    "pipe = Pipeline(steps=[(\"tree\", tree)])\n",
    "pipe.fit(X_train, y_train)\n",
    "print(pipe.score(X_validation, y_validation))\n",
    "pipe.predict(X_validation)"
   ],
   "metadata": {
    "collapsed": false,
    "pycharm": {
     "name": "#%%\n"
    }
   }
  },
  {
   "cell_type": "markdown",
   "source": [
    "## Nearest Neighbour"
   ],
   "metadata": {
    "collapsed": false
   }
  },
  {
   "cell_type": "code",
   "execution_count": 644,
   "outputs": [
    {
     "name": "stdout",
     "output_type": "stream",
     "text": [
      "Best parameter (CV score=0.770):\n",
      "{'nn__n_neighbors': 4, 'nn__weights': 'uniform'}\n",
      "0.7\n"
     ]
    },
    {
     "data": {
      "text/plain": "array([0, 0, 0, 0, 0, 0, 0, 0, 0, 0, 0, 0, 0, 0, 0, 0, 0, 0, 0, 0, 0, 0,\n       0, 0, 0, 0, 0, 0, 0, 0, 0, 0, 0, 0, 0, 0, 0, 0, 0, 0, 0, 0, 0, 0,\n       0, 0, 0, 0, 0, 0])"
     },
     "execution_count": 644,
     "metadata": {},
     "output_type": "execute_result"
    }
   ],
   "source": [
    "max_iter=10000\n",
    "nn = KNeighborsClassifier()\n",
    "\n",
    "pipe = Pipeline(steps=[(\"scaler\", scaler), (\"nn\", nn)])\n",
    "\n",
    "parameter_grid = {\n",
    "    'nn__weights': ['uniform', 'distance',],\n",
    "    'nn__n_neighbors': [1,2,3,4,5],\n",
    "}\n",
    "\n",
    "search = GridSearchCV(pipe, parameter_grid, n_jobs=-1, cv=5)\n",
    "search.fit(X_train, y_train)\n",
    "\n",
    "print(\"Best parameter (CV score=%0.3f):\" % search.best_score_)\n",
    "print(search.best_params_)\n",
    "\n",
    "best_params = search.best_params_\n",
    "\n",
    "nn = KNeighborsClassifier(\n",
    "    n_neighbors=best_params['nn__n_neighbors'],\n",
    "    weights=best_params['nn__weights'],\n",
    "    )\n",
    "\n",
    "scaler = RobustScaler()\n",
    "pipe = Pipeline(steps=[(\"nn\", nn)])\n",
    "pipe.fit(X_train, y_train)\n",
    "print(pipe.score(X_validation, y_validation))\n",
    "pipe.predict(X_validation)"
   ],
   "metadata": {
    "collapsed": false,
    "pycharm": {
     "name": "#%%\n"
    }
   }
  },
  {
   "cell_type": "markdown",
   "source": [
    "## QDA"
   ],
   "metadata": {
    "collapsed": false
   }
  },
  {
   "cell_type": "code",
   "execution_count": 654,
   "outputs": [
    {
     "name": "stdout",
     "output_type": "stream",
     "text": [
      "Best parameter (CV score=0.787):\n",
      "{}\n",
      "0.76\n"
     ]
    },
    {
     "data": {
      "text/plain": "array([0, 0, 0, 0, 1, 0, 0, 0, 0, 0, 0, 0, 0, 0, 0, 0, 0, 0, 0, 0, 0, 0,\n       0, 0, 0, 0, 0, 0, 0, 0, 0, 0, 0, 0, 0, 0, 0, 0, 0, 0, 0, 0, 0, 0,\n       0, 1, 0, 0, 0, 0, 0, 0, 0, 0, 0, 0, 1, 0, 0, 1, 1, 1, 1, 0, 0, 0,\n       0, 1, 0, 0, 0, 1, 0, 0, 0, 0, 0, 0, 0, 0, 0, 0, 0, 0, 0, 0, 0, 1,\n       0, 0, 0, 0, 0, 0, 0, 0, 0, 0, 1, 0])"
     },
     "execution_count": 654,
     "metadata": {},
     "output_type": "execute_result"
    }
   ],
   "source": [
    "max_iter=10000\n",
    "qda = QuadraticDiscriminantAnalysis()\n",
    "\n",
    "pipe = Pipeline(steps=[(\"qda\", qda)])\n",
    "\n",
    "parameter_grid = {\n",
    "}\n",
    "\n",
    "search = GridSearchCV(pipe, parameter_grid, n_jobs=-1, cv=5)\n",
    "search.fit(X_train, y_train)\n",
    "\n",
    "print(\"Best parameter (CV score=%0.3f):\" % search.best_score_)\n",
    "print(search.best_params_)\n",
    "\n",
    "best_params = search.best_params_\n",
    "\n",
    "qda = QuadraticDiscriminantAnalysis(\n",
    "    )\n",
    "\n",
    "scaler = StandardScaler()\n",
    "pipe = Pipeline(steps=[(\"qda\", qda)])\n",
    "pipe.fit(X_train, y_train)\n",
    "print(pipe.score(X_validation, y_validation))\n",
    "pipe.predict(X_validation)\n",
    "predicted_test = pipe.predict(X_test)\n",
    "predicted_test"
   ],
   "metadata": {
    "collapsed": false,
    "pycharm": {
     "name": "#%%\n"
    }
   }
  },
  {
   "cell_type": "markdown",
   "source": [
    "## LDA"
   ],
   "metadata": {
    "collapsed": false
   }
  },
  {
   "cell_type": "code",
   "execution_count": 653,
   "outputs": [
    {
     "name": "stdout",
     "output_type": "stream",
     "text": [
      "Best parameter (CV score=0.783):\n",
      "{}\n",
      "0.68\n"
     ]
    },
    {
     "data": {
      "text/plain": "array([0, 0, 0, 0, 0, 0, 0, 0, 0, 0, 0, 0, 0, 0, 0, 0, 0, 0, 0, 0, 0, 0,\n       0, 0, 0, 0, 0, 0, 0, 0, 0, 0, 0, 0, 0, 0, 0, 0, 0, 0, 0, 0, 0, 0,\n       0, 0, 0, 0, 0, 0, 0, 0, 0, 0, 0, 0, 0, 0, 0, 0, 0, 1, 1, 0, 0, 0,\n       0, 0, 0, 0, 0, 0, 0, 0, 0, 0, 0, 0, 0, 0, 0, 0, 0, 0, 0, 0, 0, 0,\n       0, 0, 0, 0, 0, 0, 0, 0, 0, 0, 1, 0])"
     },
     "execution_count": 653,
     "metadata": {},
     "output_type": "execute_result"
    }
   ],
   "source": [
    "max_iter=10000\n",
    "lda = LinearDiscriminantAnalysis()\n",
    "\n",
    "pipe = Pipeline(steps=[(\"lda\", lda)])\n",
    "\n",
    "parameter_grid = {\n",
    "}\n",
    "\n",
    "search = GridSearchCV(pipe, parameter_grid, n_jobs=-1, cv=5)\n",
    "search.fit(X_train, y_train)\n",
    "\n",
    "print(\"Best parameter (CV score=%0.3f):\" % search.best_score_)\n",
    "print(search.best_params_)\n",
    "\n",
    "best_params = search.best_params_\n",
    "\n",
    "lda = LinearDiscriminantAnalysis(\n",
    "    )\n",
    "\n",
    "scaler = StandardScaler()\n",
    "pipe = Pipeline(steps=[(\"lda\", lda)])\n",
    "pipe.fit(X_train, y_train)\n",
    "print(pipe.score(X_validation, y_validation))\n",
    "pipe.predict(X_validation)\n",
    "predicted_test = pipe.predict(X_test)\n",
    "predicted_test"
   ],
   "metadata": {
    "collapsed": false,
    "pycharm": {
     "name": "#%%\n"
    }
   }
  },
  {
   "cell_type": "markdown",
   "source": [
    "# Data Visualization"
   ],
   "metadata": {
    "collapsed": false,
    "pycharm": {
     "name": "#%% md\n"
    }
   }
  },
  {
   "cell_type": "code",
   "execution_count": 646,
   "outputs": [
    {
     "data": {
      "text/plain": "<Figure size 432x288 with 3 Axes>",
      "image/png": "[encoded data removed]"
     },
     "metadata": {
      "needs_background": "light"
     },
     "output_type": "display_data"
    }
   ],
   "source": [
    "fig, (ax1, ax2, ax3) = plt.subplots(3,1)\n",
    "\n",
    "pca = PCA(n_components=2, whiten=True)\n",
    "scaler = StandardScaler()\n",
    "pipe = Pipeline(steps=[(\"scaler\", scaler), (\"pca\", pca)])\n",
    "X_train_2d = pipe.fit_transform(X_train)\n",
    "\n",
    "pca = PCA(n_components=2, whiten=True)\n",
    "scaler = StandardScaler()\n",
    "pipe = Pipeline(steps=[(\"scaler\", scaler), (\"pca\", pca)])\n",
    "X_test_2d = pipe.fit_transform(X_test)\n",
    "\n",
    "pca = PCA(n_components=2, whiten=True)\n",
    "scaler = StandardScaler()\n",
    "pipe = Pipeline(steps=[(\"scaler\", scaler), (\"pca\", pca)])\n",
    "X_validation_2d = pipe.fit_transform(X_validation)\n",
    "\n",
    "ax1.scatter(X_train_2d[:, 0], X_train_2d[:, 1], c=y_train, cmap=plt.cm.nipy_spectral, edgecolor=\"k\")\n",
    "\n",
    "ax2.scatter(X_validation_2d[:, 0], X_validation_2d[:, 1], c=y_validation, cmap=plt.cm.nipy_spectral, edgecolor=\"k\")\n",
    "\n",
    "ax3.scatter(X_test_2d[:, 0], X_test_2d[:, 1], edgecolor=\"k\")\n",
    "\n",
    "\n",
    "plt.show()"
   ],
   "metadata": {
    "collapsed": false,
    "pycharm": {
     "name": "#%%\n"
    }
   }
  },
  {
   "cell_type": "code",
   "execution_count": 646,
   "outputs": [],
   "source": [],
   "metadata": {
    "collapsed": false,
    "pycharm": {
     "name": "#%%\n"
    }
   }
  }
 ],
 "metadata": {
  "kernelspec": {
   "display_name": "Python 3",
   "language": "python",
   "name": "python3"
  },
  "language_info": {
   "codemirror_mode": {
    "name": "ipython",
    "version": 2
   },
   "file_extension": ".py",
   "mimetype": "text/x-python",
   "name": "python",
   "nbconvert_exporter": "python",
   "pygments_lexer": "ipython2",
   "version": "2.7.6"
  }
 },
 "nbformat": 4,
 "nbformat_minor": 0
}